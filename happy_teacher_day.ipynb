{
 "cells": [
  {
   "cell_type": "code",
   "execution_count": 12,
   "metadata": {},
   "outputs": [
    {
     "name": "stdout",
     "output_type": "stream",
     "text": [
      "                                                            \n",
      "                                                            \n",
      "                                                            \n",
      "                ers Day H           rs Day Ha               \n",
      "            achers Day Happy    chers Day Happy T           \n",
      "          eachers Day Happy Teachers Day Happy Teac         \n",
      "         eachers Day Happy Teachers Day Happy Teache        \n",
      "        eachers Day Happy Teachers Day Happy Teachers       \n",
      "        achers Day Happy Teachers Day Happy Teachers        \n",
      "        chers Day Happy Teachers Day Happy Teachers D       \n",
      "        hers Day Happy Teachers Day Happy Teachers Da       \n",
      "        ers Day Happy Teachers Day Happy Teachers Day       \n",
      "        rs Day Happy Teachers Day Happy Teachers Day        \n",
      "          Day Happy Teachers Day Happy Teachers Day         \n",
      "          ay Happy Teachers Day Happy Teachers Day          \n",
      "          y Happy Teachers Day Happy Teachers Day H         \n",
      "            appy Teachers Day Happy Teachers Day            \n",
      "             py Teachers Day Happy Teachers Day             \n",
      "               Teachers Day Happy Teachers Day              \n",
      "                achers Day Happy Teachers Day               \n",
      "                  ers Day Happy Teachers Da                 \n",
      "                     Day Happy Teachers D                   \n",
      "                        Happy Teachers                      \n",
      "                          py Teache                         \n",
      "                             eac                            \n",
      "                              c                             \n",
      "                                                            \n",
      "                                                            \n",
      "                                                            \n",
      "                                                            \n"
     ]
    }
   ],
   "source": [
    "def happy_teachers_day():\n",
    "    print('\\n'.join\n",
    "          (\n",
    "             [''.join\n",
    "              ([(' Happy Teachers Day'[(x-y)%19]\n",
    "                 if((x*0.05)**2+(y*0.1)**2-1)\n",
    "                 **3-(x*0.05)**2*(y*0.1)**3<=0 else ' '\n",
    "                 )\n",
    "                 for x in range(-30,30)\n",
    "                 ])\n",
    "                 for y in range(15,-15,-1)\n",
    "              ] \n",
    "          ))\n",
    "happy_teachers_day()"
   ]
  },
  {
   "cell_type": "code",
   "execution_count": null,
   "metadata": {},
   "outputs": [],
   "source": []
  },
  {
   "cell_type": "code",
   "execution_count": null,
   "metadata": {},
   "outputs": [],
   "source": []
  }
 ],
 "metadata": {
  "kernelspec": {
   "display_name": "Python 3",
   "language": "python",
   "name": "python3"
  },
  "language_info": {
   "codemirror_mode": {
    "name": "ipython",
    "version": 3
   },
   "file_extension": ".py",
   "mimetype": "text/x-python",
   "name": "python",
   "nbconvert_exporter": "python",
   "pygments_lexer": "ipython3",
   "version": "3.10.5"
  },
  "orig_nbformat": 4
 },
 "nbformat": 4,
 "nbformat_minor": 2
}
