{
 "cells": [
  {
   "cell_type": "markdown",
   "id": "b3f69d39",
   "metadata": {},
   "source": [
    "# Patterns Program"
   ]
  },
  {
   "cell_type": "markdown",
   "id": "68ab5422",
   "metadata": {},
   "source": [
    "### 1. Square Pattern"
   ]
  },
  {
   "cell_type": "code",
   "execution_count": 8,
   "id": "e10c8718",
   "metadata": {},
   "outputs": [
    {
     "name": "stdout",
     "output_type": "stream",
     "text": [
      "* * * * * \n",
      "* * * * * \n",
      "* * * * * \n",
      "* * * * * \n",
      "* * * * * \n"
     ]
    }
   ],
   "source": [
    "n = 5\n",
    "for i in range(0, n):\n",
    "    for j in range(0,n):\n",
    "        print(\"*\", end = \" \")\n",
    "    print()"
   ]
  },
  {
   "cell_type": "markdown",
   "id": "6a4d02cb",
   "metadata": {},
   "source": [
    "### 2. Hollow Square Pattern"
   ]
  },
  {
   "cell_type": "code",
   "execution_count": 9,
   "id": "e4e90860",
   "metadata": {},
   "outputs": [
    {
     "name": "stdout",
     "output_type": "stream",
     "text": [
      "* * * * * * * \n",
      "*           * \n",
      "*           * \n",
      "*           * \n",
      "*           * \n",
      "*           * \n",
      "* * * * * * * \n"
     ]
    }
   ],
   "source": [
    "n = 7\n",
    "for i in range(n):\n",
    "    for j in range(n):\n",
    "        if i== 0 or i == n-1 or j== 0 or j == n-1:\n",
    "            print(\"*\",end=\" \")\n",
    "        else:\n",
    "            print(\" \",end=\" \")\n",
    "    print()"
   ]
  },
  {
   "cell_type": "markdown",
   "id": "45f39b28",
   "metadata": {},
   "source": [
    "### 3. Left Triangle Pattern "
   ]
  },
  {
   "cell_type": "code",
   "execution_count": 10,
   "id": "bea4a219",
   "metadata": {},
   "outputs": [
    {
     "name": "stdout",
     "output_type": "stream",
     "text": [
      "*\n",
      "**\n",
      "***\n",
      "****\n",
      "*****\n"
     ]
    }
   ],
   "source": [
    "n = 5\n",
    "for i in range(n):\n",
    "    for j in range(i+1):\n",
    "        print(\"*\", end = \"\")\n",
    "    print()"
   ]
  },
  {
   "cell_type": "markdown",
   "id": "9a3c724b",
   "metadata": {},
   "source": [
    "### 4. Left Downward Triangle Pattern\n"
   ]
  },
  {
   "cell_type": "code",
   "execution_count": 11,
   "id": "8b6551ae",
   "metadata": {},
   "outputs": [
    {
     "name": "stdout",
     "output_type": "stream",
     "text": [
      "*****\n",
      "****\n",
      "***\n",
      "**\n",
      "*\n"
     ]
    }
   ],
   "source": [
    "n = 5\n",
    "for i in range(n):\n",
    "    for j in range(n-i):\n",
    "        print(\"*\", end = \"\")\n",
    "    print()"
   ]
  },
  {
   "cell_type": "markdown",
   "id": "fd7b190d",
   "metadata": {},
   "source": [
    "### 5. Right Triangle Pattern "
   ]
  },
  {
   "cell_type": "code",
   "execution_count": 12,
   "id": "1b8f1377",
   "metadata": {},
   "outputs": [
    {
     "name": "stdout",
     "output_type": "stream",
     "text": [
      "      *\n",
      "     **\n",
      "    ***\n",
      "   ****\n",
      "  *****\n",
      " ******\n"
     ]
    }
   ],
   "source": [
    "n = 6\n",
    "for i in range(n):\n",
    "    for j in range(n-i):\n",
    "        print(\" \",end=\"\")\n",
    "    for k in range(i+1):\n",
    "        print(\"*\",end=\"\")\n",
    "    print()"
   ]
  },
  {
   "cell_type": "markdown",
   "id": "369445fe",
   "metadata": {},
   "source": [
    "### 6. Right Downward Triangle Pattern "
   ]
  },
  {
   "cell_type": "code",
   "execution_count": 13,
   "id": "5628a307",
   "metadata": {},
   "outputs": [
    {
     "name": "stdout",
     "output_type": "stream",
     "text": [
      "      ******\n",
      "       *****\n",
      "        ****\n",
      "         ***\n",
      "          **\n",
      "           *\n"
     ]
    }
   ],
   "source": [
    "n = 6 \n",
    "for i in range(n):\n",
    "    for j in range(n+i):\n",
    "        print(\" \",end=\"\")\n",
    "    for k in range(n-i):\n",
    "        print(\"*\",end=\"\")\n",
    "    print()"
   ]
  },
  {
   "cell_type": "markdown",
   "id": "309e7999",
   "metadata": {},
   "source": [
    "### 7. Hollow Left Triangle Pattern "
   ]
  },
  {
   "cell_type": "code",
   "execution_count": 14,
   "id": "c1865840",
   "metadata": {},
   "outputs": [
    {
     "name": "stdout",
     "output_type": "stream",
     "text": [
      "\n",
      "*\n",
      "**\n",
      "* *\n",
      "*  *\n",
      "*   *\n",
      "******\n"
     ]
    }
   ],
   "source": [
    "n = 6\n",
    "for i in range(n+1):\n",
    "    for j in range(i):\n",
    "        if j==0 or j== i-1:\n",
    "            print(\"*\",end=\"\")\n",
    "        elif i == n:\n",
    "            print(\"*\",end=\"\")\n",
    "        else:\n",
    "            print(\" \",end=\"\")\n",
    "        \n",
    "    print()"
   ]
  },
  {
   "cell_type": "markdown",
   "id": "200af852",
   "metadata": {},
   "source": [
    "### 8. Pyramid Pattern"
   ]
  },
  {
   "cell_type": "code",
   "execution_count": 15,
   "id": "3df7ef72",
   "metadata": {},
   "outputs": [
    {
     "name": "stdout",
     "output_type": "stream",
     "text": [
      "      *\n",
      "     ***\n",
      "    *****\n",
      "   *******\n",
      "  *********\n",
      " ***********\n",
      "*************\n"
     ]
    }
   ],
   "source": [
    "n = 7\n",
    "for i in range(n):\n",
    "    for j in range(n-i-1):\n",
    "        print(\" \",end=\"\")\n",
    "    for k in range(2*i+1):\n",
    "        print(\"*\",end=\"\")\n",
    "    print()"
   ]
  },
  {
   "cell_type": "markdown",
   "id": "e2ebe630",
   "metadata": {},
   "source": [
    "### 9. Hollow Pyramid Pattern"
   ]
  },
  {
   "cell_type": "code",
   "execution_count": 17,
   "id": "cb9aa19c",
   "metadata": {},
   "outputs": [
    {
     "name": "stdout",
     "output_type": "stream",
     "text": [
      "      *\n",
      "     * *\n",
      "    *   *\n",
      "   *     *\n",
      "  *       *\n",
      " *         *\n",
      "*************\n"
     ]
    }
   ],
   "source": [
    "n = 7\n",
    "for i in range(n):\n",
    "    for j in range(n-i-1):\n",
    "        print(\" \",end=\"\")\n",
    "    for k in range(2*i+1):\n",
    "        if k==0 or k==2*i:\n",
    "            print(\"*\",end=\"\")\n",
    "        else:\n",
    "            if i == n-1:\n",
    "                print(\"*\",end=\"\")\n",
    "            else:\n",
    "                print(\" \",end=\"\")\n",
    "    print()\n"
   ]
  },
  {
   "cell_type": "markdown",
   "id": "18a52f61",
   "metadata": {},
   "source": [
    "### 10. Diamond Star Pattern"
   ]
  },
  {
   "cell_type": "code",
   "execution_count": 27,
   "id": "bf9edb61",
   "metadata": {},
   "outputs": [
    {
     "name": "stdout",
     "output_type": "stream",
     "text": [
      "    \n",
      "   *\n",
      "  ***\n",
      " *****\n",
      "*******\n",
      " *******\n",
      "  *****\n",
      "   ***\n",
      "    *\n"
     ]
    }
   ],
   "source": [
    "n = 5\n",
    "for i in range(n):\n",
    "    for j in range(n-i-1):\n",
    "        print(' ',end=\"\")\n",
    "    for j in range(2*i-1):\n",
    "        print('*',end=\"\")\n",
    "    print()\n",
    "for i in range(n-1):\n",
    "    for j in range(i+1):\n",
    "        print(' ',end=\"\")\n",
    "    for j in range(2*(n-i-1)-1):\n",
    "        print('*',end=\"\")\n",
    "    print()"
   ]
  },
  {
   "cell_type": "markdown",
   "id": "ed2e2067",
   "metadata": {},
   "source": [
    "### 11. Hallow Diamond Star Pattern"
   ]
  },
  {
   "cell_type": "code",
   "execution_count": 35,
   "id": "3facd94d",
   "metadata": {},
   "outputs": [
    {
     "name": "stdout",
     "output_type": "stream",
     "text": [
      "      *\n",
      "     * *\n",
      "    *   *\n",
      "   *     *\n",
      "  *       *\n",
      " *         *\n",
      "*           *\n",
      " *         *\n",
      "  *       *\n",
      "   *     *\n",
      "    *   *\n",
      "     * *\n",
      "      *\n"
     ]
    }
   ],
   "source": [
    "n = 7\n",
    "for i in range(n):\n",
    "    for j in range(n-i-1):\n",
    "        print(' ',end=\"\")\n",
    "    for j in range(2*i+1):\n",
    "        if j==0 or j==2*i:\n",
    "            print('*',end=\"\")\n",
    "        else:\n",
    "            print(\" \",end=\"\")\n",
    "    print()\n",
    "for i in range(n-1):\n",
    "    for j in range(i+1):\n",
    "        print(' ',end=\"\")\n",
    "    for j in range(2*(n-i-1)-1):\n",
    "        if j==0 or j== 2*(n-i-1)-2:\n",
    "            print('*',end=\"\")\n",
    "        else:\n",
    "            print(\" \",end=\"\")\n",
    "    print()"
   ]
  },
  {
   "cell_type": "code",
   "execution_count": null,
   "id": "a82231a1",
   "metadata": {},
   "outputs": [],
   "source": []
  }
 ],
 "metadata": {
  "kernelspec": {
   "display_name": "Python 3",
   "language": "python",
   "name": "python3"
  },
  "language_info": {
   "codemirror_mode": {
    "name": "ipython",
    "version": 3
   },
   "file_extension": ".py",
   "mimetype": "text/x-python",
   "name": "python",
   "nbconvert_exporter": "python",
   "pygments_lexer": "ipython3",
   "version": "3.8.8"
  }
 },
 "nbformat": 4,
 "nbformat_minor": 5
}
